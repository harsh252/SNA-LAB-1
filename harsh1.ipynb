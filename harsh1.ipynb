{
 "cells": [
  {
   "cell_type": "code",
   "execution_count": 22,
   "id": "0be5e742",
   "metadata": {},
   "outputs": [],
   "source": [
    "import pandas as pd\n",
    "import numpy as np\n",
    "import networkx as nx\n",
    "import matplotlib.pyplot as plt"
   ]
  },
  {
   "cell_type": "code",
   "execution_count": 23,
   "id": "9a83e336",
   "metadata": {},
   "outputs": [],
   "source": [
    "df=pd.read_csv('edgelist1.csv')"
   ]
  },
  {
   "cell_type": "code",
   "execution_count": 24,
   "id": "4a722609",
   "metadata": {},
   "outputs": [
    {
     "data": {
      "text/html": [
       "<div>\n",
       "<style scoped>\n",
       "    .dataframe tbody tr th:only-of-type {\n",
       "        vertical-align: middle;\n",
       "    }\n",
       "\n",
       "    .dataframe tbody tr th {\n",
       "        vertical-align: top;\n",
       "    }\n",
       "\n",
       "    .dataframe thead th {\n",
       "        text-align: right;\n",
       "    }\n",
       "</style>\n",
       "<table border=\"1\" class=\"dataframe\">\n",
       "  <thead>\n",
       "    <tr style=\"text-align: right;\">\n",
       "      <th></th>\n",
       "      <th>Source</th>\n",
       "      <th>Destination</th>\n",
       "      <th>Weight</th>\n",
       "    </tr>\n",
       "  </thead>\n",
       "  <tbody>\n",
       "    <tr>\n",
       "      <th>0</th>\n",
       "      <td>A</td>\n",
       "      <td>B</td>\n",
       "      <td>3.5</td>\n",
       "    </tr>\n",
       "    <tr>\n",
       "      <th>1</th>\n",
       "      <td>A</td>\n",
       "      <td>C</td>\n",
       "      <td>1.0</td>\n",
       "    </tr>\n",
       "    <tr>\n",
       "      <th>2</th>\n",
       "      <td>A</td>\n",
       "      <td>D</td>\n",
       "      <td>2.0</td>\n",
       "    </tr>\n",
       "    <tr>\n",
       "      <th>3</th>\n",
       "      <td>B</td>\n",
       "      <td>E</td>\n",
       "      <td>3.0</td>\n",
       "    </tr>\n",
       "    <tr>\n",
       "      <th>4</th>\n",
       "      <td>C</td>\n",
       "      <td>D</td>\n",
       "      <td>4.0</td>\n",
       "    </tr>\n",
       "    <tr>\n",
       "      <th>5</th>\n",
       "      <td>C</td>\n",
       "      <td>F</td>\n",
       "      <td>5.0</td>\n",
       "    </tr>\n",
       "    <tr>\n",
       "      <th>6</th>\n",
       "      <td>D</td>\n",
       "      <td>E</td>\n",
       "      <td>6.0</td>\n",
       "    </tr>\n",
       "    <tr>\n",
       "      <th>7</th>\n",
       "      <td>E</td>\n",
       "      <td>G</td>\n",
       "      <td>4.0</td>\n",
       "    </tr>\n",
       "    <tr>\n",
       "      <th>8</th>\n",
       "      <td>E</td>\n",
       "      <td>H</td>\n",
       "      <td>4.0</td>\n",
       "    </tr>\n",
       "    <tr>\n",
       "      <th>9</th>\n",
       "      <td>F</td>\n",
       "      <td>G</td>\n",
       "      <td>2.0</td>\n",
       "    </tr>\n",
       "    <tr>\n",
       "      <th>10</th>\n",
       "      <td>G</td>\n",
       "      <td>H</td>\n",
       "      <td>3.0</td>\n",
       "    </tr>\n",
       "    <tr>\n",
       "      <th>11</th>\n",
       "      <td>G</td>\n",
       "      <td>I</td>\n",
       "      <td>2.0</td>\n",
       "    </tr>\n",
       "    <tr>\n",
       "      <th>12</th>\n",
       "      <td>H</td>\n",
       "      <td>J</td>\n",
       "      <td>2.0</td>\n",
       "    </tr>\n",
       "    <tr>\n",
       "      <th>13</th>\n",
       "      <td>I</td>\n",
       "      <td>J</td>\n",
       "      <td>1.0</td>\n",
       "    </tr>\n",
       "    <tr>\n",
       "      <th>14</th>\n",
       "      <td>J</td>\n",
       "      <td>K</td>\n",
       "      <td>1.0</td>\n",
       "    </tr>\n",
       "    <tr>\n",
       "      <th>15</th>\n",
       "      <td>J</td>\n",
       "      <td>L</td>\n",
       "      <td>1.0</td>\n",
       "    </tr>\n",
       "  </tbody>\n",
       "</table>\n",
       "</div>"
      ],
      "text/plain": [
       "   Source Destination  Weight\n",
       "0       A           B     3.5\n",
       "1       A           C     1.0\n",
       "2       A           D     2.0\n",
       "3       B           E     3.0\n",
       "4       C           D     4.0\n",
       "5       C           F     5.0\n",
       "6       D           E     6.0\n",
       "7       E           G     4.0\n",
       "8       E           H     4.0\n",
       "9       F           G     2.0\n",
       "10      G           H     3.0\n",
       "11      G           I     2.0\n",
       "12      H           J     2.0\n",
       "13      I           J     1.0\n",
       "14      J           K     1.0\n",
       "15      J           L     1.0"
      ]
     },
     "execution_count": 24,
     "metadata": {},
     "output_type": "execute_result"
    }
   ],
   "source": [
    "df"
   ]
  },
  {
   "cell_type": "code",
   "execution_count": 25,
   "id": "2d83e231",
   "metadata": {},
   "outputs": [
    {
     "data": {
      "text/plain": [
       "16"
      ]
     },
     "execution_count": 25,
     "metadata": {},
     "output_type": "execute_result"
    }
   ],
   "source": [
    "len(df)"
   ]
  },
  {
   "cell_type": "code",
   "execution_count": 26,
   "id": "cba289be",
   "metadata": {},
   "outputs": [],
   "source": [
    "def undirected_graph(data):\n",
    "    edges=[]\n",
    "    for i in range(len(df)):\n",
    "        edges.append((df.loc[i, 'Source'], df.loc[i, 'Destination'], df.loc[i, 'Weight']))\n",
    "    G=nx.Graph()\n",
    "    G.add_weighted_edges_from(edges)\n",
    "    pos = nx.spring_layout(G)\n",
    "    nx.draw_networkx_nodes(G, pos)\n",
    "    nx.draw_networkx_edges(G, pos)\n",
    "    nx.draw_networkx_edge_labels(G, pos, edge_labels={(u,v):d[\"weight\"] for u,v,d in G.edges(data=True)})\n",
    "    nx.draw_networkx_labels(G, pos)\n",
    "    plt.axis('off')\n",
    "    plt.show()\n",
    "    nodes=list(G.nodes())\n",
    "    print('Nodes of the above graph are:-\\n',nodes)\n",
    "    print('Total no of Nodes are:-',len(nodes))\n",
    "    edges=list(G.edges())\n",
    "    print('Edges of the above graph are:-\\n',edges)\n",
    "    print('Total no of Edges are:-\\n',len(edges))\n",
    "    print('Degree of nodes:-\\n',G.degree( weight='weight'))\n",
    "    degree=dict(G.degree( weight='weight'))\n",
    "    degree_max=max(list(degree.values()))\n",
    "    value = {i for i in degree if degree[i]==degree_max}\n",
    "    print(\"max degree node:\",value)\n",
    "    degree_min=min(list(degree.values()))\n",
    "    value = {i for i in degree if degree[i]==degree_min}\n",
    "    print(\"min degree node:\",value)"
   ]
  },
  {
   "cell_type": "code",
   "execution_count": 27,
   "id": "100bf727",
   "metadata": {},
   "outputs": [
    {
     "data": {
      "image/png": "[encoded data removed]",
      "text/plain": [
       "<Figure size 640x480 with 1 Axes>"
      ]
     },
     "metadata": {},
     "output_type": "display_data"
    },
    {
     "name": "stdout",
     "output_type": "stream",
     "text": [
      "Nodes of the above graph are:-\n",
      " ['A', 'B', 'C', 'D', 'E', 'F', 'G', 'H', 'I', 'J', 'K', 'L']\n",
      "Total no of Nodes are:- 12\n",
      "Edges of the above graph are:-\n",
      " [('A', 'B'), ('A', 'C'), ('A', 'D'), ('B', 'E'), ('C', 'D'), ('C', 'F'), ('D', 'E'), ('E', 'G'), ('E', 'H'), ('F', 'G'), ('G', 'H'), ('G', 'I'), ('H', 'J'), ('I', 'J'), ('J', 'K'), ('J', 'L')]\n",
      "Total no of Edges are:-\n",
      " 16\n",
      "Degree of nodes:-\n",
      " [('A', 6.5), ('B', 6.5), ('C', 10.0), ('D', 12.0), ('E', 17.0), ('F', 7.0), ('G', 11.0), ('H', 9.0), ('I', 3.0), ('J', 5.0), ('K', 1.0), ('L', 1.0)]\n",
      "max degree node: {'E'}\n",
      "min degree node: {'L', 'K'}\n"
     ]
    }
   ],
   "source": [
    "undirected_graph(df)"
   ]
  },
  {
   "cell_type": "code",
   "execution_count": 28,
   "id": "614bcbd2",
   "metadata": {},
   "outputs": [],
   "source": [
    "def directed_graph(data):\n",
    "    edges=[]\n",
    "    for i in range(len(df)):\n",
    "        edges.append((df.loc[i, 'Source'], df.loc[i, 'Destination'], df.loc[i, 'Weight']))\n",
    "    H = nx.DiGraph()\n",
    "    H.add_weighted_edges_from(edges)\n",
    "    pos = nx.spring_layout(H)  # Position the nodes using a spring layout algorithm\n",
    "    nx.draw(H, pos, with_labels=True, node_size=500, node_color='lightblue', font_size=10, font_weight='bold', edge_color='gray', width=2, alpha=0.9)\n",
    "    nx.draw_networkx_edge_labels(H, pos, edge_labels={(u, v): d['weight'] for u, v, d in H.edges(data=True)}, font_size=8, font_color='black')  # Draw edge labels\n",
    "    plt.show()\n",
    "    nodes=list(H.nodes())\n",
    "    print('Nodes of the above graph are:-\\n',nodes)\n",
    "    print('Total no of Nodes are:-',len(nodes))\n",
    "    edges=list(H.edges())\n",
    "    print('Edges of the above graph are:-\\n',edges)\n",
    "    print('Total no of Edges are:-\\n',len(edges))\n",
    "    print('out Degree',H.out_degree( weight='weight'))\n",
    "    print('in Degree',H.in_degree( weight='weight'))\n",
    "    degree=dict(H.degree( weight='weight'))\n",
    "    max_out_degree=dict(H.out_degree(weight='weight'))\n",
    "    degree_max=max(list(max_out_degree.values()))\n",
    "    value = {i for i in max_out_degree if max_out_degree[i]==degree_max}\n",
    "    print(\"max out degree node:\",value)\n",
    "    min_out_degree=dict(H.out_degree(weight='weight'))\n",
    "    degree_min=min(list(min_out_degree.values()))\n",
    "    value = {i for i in min_out_degree if min_out_degree[i]==degree_min}\n",
    "    print(\"min out degree node:\",value)\n",
    "    max_in_degree=dict(H.in_degree(weight='weight'))\n",
    "    degree_max=max(list(max_in_degree.values()))\n",
    "    value = {i for i in max_in_degree if max_in_degree[i]==degree_max}\n",
    "    print(\"max in degree node:\",value)\n",
    "    min_in_degree=dict(H.in_degree(weight='weight'))\n",
    "    degree_min=min(list(min_in_degree.values()))\n",
    "    value = {i for i in min_in_degree if min_in_degree[i]==degree_min}\n",
    "    print(\"min in degree node:\",value)"
   ]
  },
  {
   "cell_type": "code",
   "execution_count": 29,
   "id": "b5ac839b",
   "metadata": {},
   "outputs": [
    {
     "data": {
      "image/png": "[encoded data removed]",
      "text/plain": [
       "<Figure size 640x480 with 1 Axes>"
      ]
     },
     "metadata": {},
     "output_type": "display_data"
    },
    {
     "name": "stdout",
     "output_type": "stream",
     "text": [
      "Nodes of the above graph are:-\n",
      " ['A', 'B', 'C', 'D', 'E', 'F', 'G', 'H', 'I', 'J', 'K', 'L']\n",
      "Total no of Nodes are:- 12\n",
      "Edges of the above graph are:-\n",
      " [('A', 'B'), ('A', 'C'), ('A', 'D'), ('B', 'E'), ('C', 'D'), ('C', 'F'), ('D', 'E'), ('E', 'G'), ('E', 'H'), ('F', 'G'), ('G', 'H'), ('G', 'I'), ('H', 'J'), ('I', 'J'), ('J', 'K'), ('J', 'L')]\n",
      "Total no of Edges are:-\n",
      " 16\n",
      "out Degree [('A', 6.5), ('B', 3.0), ('C', 9.0), ('D', 6.0), ('E', 8.0), ('F', 2.0), ('G', 5.0), ('H', 2.0), ('I', 1.0), ('J', 2.0), ('K', 0), ('L', 0)]\n",
      "in Degree [('A', 0), ('B', 3.5), ('C', 1.0), ('D', 6.0), ('E', 9.0), ('F', 5.0), ('G', 6.0), ('H', 7.0), ('I', 2.0), ('J', 3.0), ('K', 1.0), ('L', 1.0)]\n",
      "max out degree node: {'C'}\n",
      "min out degree node: {'L', 'K'}\n",
      "max in degree node: {'E'}\n",
      "min in degree node: {'A'}\n"
     ]
    }
   ],
   "source": [
    "directed_graph(df)"
   ]
  },
  {
   "cell_type": "code",
   "execution_count": 30,
   "id": "d048d942",
   "metadata": {},
   "outputs": [],
   "source": [
    "def adjecency_matrix_undirected(data):\n",
    "    edges=[]\n",
    "    for i in range(len(df)):\n",
    "        edges.append((df.loc[i, 'Source'], df.loc[i, 'Destination'], df.loc[i, 'Weight']))\n",
    "    G=nx.Graph()\n",
    "    G.add_weighted_edges_from(edges)\n",
    "    adjacency_matrix_undirected_graph=nx.adjacency_matrix(G)\n",
    "    matrix=pd.DataFrame(adjacency_matrix_undirected_graph.todense()).T\n",
    "    print(matrix)\n",
    "    node = int(input(\"Enter Node:- \"))\n",
    "    sum1 = 0\n",
    "    for i in range(len(list(G.nodes()))):\n",
    "        sum1 = sum1 +  float(matrix[node][i])\n",
    " \n",
    "    print(\"Sum for Node {} is {}\".format(node,sum1))"
   ]
  },
  {
   "cell_type": "code",
   "execution_count": 31,
   "id": "f6c432e5",
   "metadata": {},
   "outputs": [
    {
     "name": "stderr",
     "output_type": "stream",
     "text": [
      "C:\\Users\\rajat\\AppData\\Local\\Temp\\ipykernel_23744\\2877546678.py:7: FutureWarning: adjacency_matrix will return a scipy.sparse array instead of a matrix in Networkx 3.0.\n",
      "  adjacency_matrix_undirected_graph=nx.adjacency_matrix(G)\n"
     ]
    },
    {
     "name": "stdout",
     "output_type": "stream",
     "text": [
      "     0    1    2    3    4    5    6    7    8    9    10   11\n",
      "0   0.0  3.5  1.0  2.0  0.0  0.0  0.0  0.0  0.0  0.0  0.0  0.0\n",
      "1   3.5  0.0  0.0  0.0  3.0  0.0  0.0  0.0  0.0  0.0  0.0  0.0\n",
      "2   1.0  0.0  0.0  4.0  0.0  5.0  0.0  0.0  0.0  0.0  0.0  0.0\n",
      "3   2.0  0.0  4.0  0.0  6.0  0.0  0.0  0.0  0.0  0.0  0.0  0.0\n",
      "4   0.0  3.0  0.0  6.0  0.0  0.0  4.0  4.0  0.0  0.0  0.0  0.0\n",
      "5   0.0  0.0  5.0  0.0  0.0  0.0  2.0  0.0  0.0  0.0  0.0  0.0\n",
      "6   0.0  0.0  0.0  0.0  4.0  2.0  0.0  3.0  2.0  0.0  0.0  0.0\n",
      "7   0.0  0.0  0.0  0.0  4.0  0.0  3.0  0.0  0.0  2.0  0.0  0.0\n",
      "8   0.0  0.0  0.0  0.0  0.0  0.0  2.0  0.0  0.0  1.0  0.0  0.0\n",
      "9   0.0  0.0  0.0  0.0  0.0  0.0  0.0  2.0  1.0  0.0  1.0  1.0\n",
      "10  0.0  0.0  0.0  0.0  0.0  0.0  0.0  0.0  0.0  1.0  0.0  0.0\n",
      "11  0.0  0.0  0.0  0.0  0.0  0.0  0.0  0.0  0.0  1.0  0.0  0.0\n",
      "Enter Node:- 4\n",
      "Sum for Node 4 is 17.0\n"
     ]
    }
   ],
   "source": [
    "adjecency_matrix_undirected(df)"
   ]
  },
  {
   "cell_type": "code",
   "execution_count": 32,
   "id": "7d44b938",
   "metadata": {},
   "outputs": [],
   "source": [
    "def adjecency_matrix_directed(data):\n",
    "    edges=[]\n",
    "    for i in range(len(df)):\n",
    "        edges.append((df.loc[i, 'Source'], df.loc[i, 'Destination'], df.loc[i, 'Weight']))\n",
    "    H=nx.DiGraph()\n",
    "    H.add_weighted_edges_from(edges)\n",
    "    adjacency_matrix_undirected_graph=nx.adjacency_matrix(H)\n",
    "    matrix=pd.DataFrame(adjacency_matrix_undirected_graph.todense()).T\n",
    "    print(matrix)\n",
    "    node = int(input(\"Enter Node:- \"))\n",
    "    sum1 = 0\n",
    "    for i in range(len(list(H.nodes()))):\n",
    "        sum1 = sum1 +  float(matrix[node][i])\n",
    "    for i in range(len(list(H.nodes()))):\n",
    "        sum1 = sum1 +  float(matrix[i][node])\n",
    "    print(\"Sum for Node {} is {}\".format(node,sum1))"
   ]
  },
  {
   "cell_type": "code",
   "execution_count": 33,
   "id": "d7677a47",
   "metadata": {},
   "outputs": [
    {
     "name": "stderr",
     "output_type": "stream",
     "text": [
      "C:\\Users\\rajat\\AppData\\Local\\Temp\\ipykernel_23744\\2107974824.py:7: FutureWarning: adjacency_matrix will return a scipy.sparse array instead of a matrix in Networkx 3.0.\n",
      "  adjacency_matrix_undirected_graph=nx.adjacency_matrix(H)\n"
     ]
    },
    {
     "name": "stdout",
     "output_type": "stream",
     "text": [
      "     0    1    2    3    4    5    6    7    8    9    10   11\n",
      "0   0.0  0.0  0.0  0.0  0.0  0.0  0.0  0.0  0.0  0.0  0.0  0.0\n",
      "1   3.5  0.0  0.0  0.0  0.0  0.0  0.0  0.0  0.0  0.0  0.0  0.0\n",
      "2   1.0  0.0  0.0  0.0  0.0  0.0  0.0  0.0  0.0  0.0  0.0  0.0\n",
      "3   2.0  0.0  4.0  0.0  0.0  0.0  0.0  0.0  0.0  0.0  0.0  0.0\n",
      "4   0.0  3.0  0.0  6.0  0.0  0.0  0.0  0.0  0.0  0.0  0.0  0.0\n",
      "5   0.0  0.0  5.0  0.0  0.0  0.0  0.0  0.0  0.0  0.0  0.0  0.0\n",
      "6   0.0  0.0  0.0  0.0  4.0  2.0  0.0  0.0  0.0  0.0  0.0  0.0\n",
      "7   0.0  0.0  0.0  0.0  4.0  0.0  3.0  0.0  0.0  0.0  0.0  0.0\n",
      "8   0.0  0.0  0.0  0.0  0.0  0.0  2.0  0.0  0.0  0.0  0.0  0.0\n",
      "9   0.0  0.0  0.0  0.0  0.0  0.0  0.0  2.0  1.0  0.0  0.0  0.0\n",
      "10  0.0  0.0  0.0  0.0  0.0  0.0  0.0  0.0  0.0  1.0  0.0  0.0\n",
      "11  0.0  0.0  0.0  0.0  0.0  0.0  0.0  0.0  0.0  1.0  0.0  0.0\n",
      "Enter Node:- 4\n",
      "Sum for Node 4 is 17.0\n"
     ]
    }
   ],
   "source": [
    "adjecency_matrix_directed(df)"
   ]
  },
  {
   "cell_type": "code",
   "execution_count": 34,
   "id": "58957e14",
   "metadata": {},
   "outputs": [],
   "source": [
    "def centrality_matrix_undirected(data):\n",
    "    edges=[]\n",
    "    for i in range(len(df)):\n",
    "        edges.append((df.loc[i, 'Source'], df.loc[i, 'Destination'], df.loc[i, 'Weight']))\n",
    "    G=nx.Graph()\n",
    "    G.add_weighted_edges_from(edges)\n",
    "    deg_centrality = nx.degree_centrality(G)\n",
    "    closeness_centrality = nx.closeness_centrality(G)\n",
    "    betweeness_centrality = nx.closeness_centrality(G)\n",
    "    eigen_vector_centrality = nx.eigenvector_centrality(G)\n",
    "    udf = pd.DataFrame.from_dict(deg_centrality,orient='index',columns=['Degree_Centrality'])\n",
    "    udf = udf.assign(Closeness_Centrality= closeness_centrality.values())\n",
    "    udf = udf.assign(Betweeness_Centrality= betweeness_centrality.values())\n",
    "    udf = udf.assign(Eigen_Vector_Centrality= eigen_vector_centrality.values())\n",
    "    print(udf)"
   ]
  },
  {
   "cell_type": "code",
   "execution_count": 35,
   "id": "1708bfd7",
   "metadata": {},
   "outputs": [
    {
     "name": "stdout",
     "output_type": "stream",
     "text": [
      "   Degree_Centrality  Closeness_Centrality  Betweeness_Centrality  \\\n",
      "A           0.272727              0.354839               0.354839   \n",
      "B           0.181818              0.407407               0.407407   \n",
      "C           0.272727              0.379310               0.379310   \n",
      "D           0.272727              0.440000               0.440000   \n",
      "E           0.363636              0.550000               0.550000   \n",
      "F           0.181818              0.423077               0.423077   \n",
      "G           0.363636              0.523810               0.523810   \n",
      "H           0.272727              0.523810               0.523810   \n",
      "I           0.181818              0.440000               0.440000   \n",
      "J           0.363636              0.440000               0.440000   \n",
      "K           0.090909              0.314286               0.314286   \n",
      "L           0.090909              0.314286               0.314286   \n",
      "\n",
      "   Eigen_Vector_Centrality  \n",
      "A                 0.279526  \n",
      "B                 0.239401  \n",
      "C                 0.276795  \n",
      "D                 0.330754  \n",
      "E                 0.445844  \n",
      "F                 0.228393  \n",
      "G                 0.415222  \n",
      "H                 0.365500  \n",
      "I                 0.218353  \n",
      "J                 0.246370  \n",
      "K                 0.081313  \n",
      "L                 0.081313  \n"
     ]
    }
   ],
   "source": [
    "centrality_matrix_undirected(df)"
   ]
  },
  {
   "cell_type": "code",
   "execution_count": 36,
   "id": "d54ac681",
   "metadata": {},
   "outputs": [],
   "source": [
    "def centrality_matrix_directed(data):\n",
    "    edges=[]\n",
    "    for i in range(len(df)):\n",
    "        edges.append((df.loc[i, 'Source'], df.loc[i, 'Destination'], df.loc[i, 'Weight']))\n",
    "    H = nx.DiGraph()\n",
    "    H.add_weighted_edges_from(edges)\n",
    "    deg_centrality = nx.degree_centrality(H)\n",
    "    closeness_centrality = nx.closeness_centrality(H)\n",
    "    betweeness_centrality = nx.closeness_centrality(H)\n",
    "    #eigen_vector_centrality = nx.eigenvector_centrality(H)\n",
    "    udf = pd.DataFrame.from_dict(deg_centrality,orient='index',columns=['Degree_Centrality'])\n",
    "    udf = udf.assign(Closeness_Centrality= closeness_centrality.values())\n",
    "    udf = udf.assign(Betweeness_Centrality= betweeness_centrality.values())\n",
    "    #udf = udf.assign(Eigen_Vector_Centrality= eigen_vector_centrality.values())\n",
    "    print(udf)"
   ]
  },
  {
   "cell_type": "code",
   "execution_count": 37,
   "id": "58ff872b",
   "metadata": {},
   "outputs": [
    {
     "name": "stdout",
     "output_type": "stream",
     "text": [
      "   Degree_Centrality  Closeness_Centrality  Betweeness_Centrality\n",
      "A           0.272727              0.000000               0.000000\n",
      "B           0.181818              0.090909               0.090909\n",
      "C           0.272727              0.090909               0.090909\n",
      "D           0.272727              0.181818               0.181818\n",
      "E           0.363636              0.242424               0.242424\n",
      "F           0.181818              0.121212               0.121212\n",
      "G           0.363636              0.297521               0.297521\n",
      "H           0.272727              0.318182               0.318182\n",
      "I           0.181818              0.247475               0.247475\n",
      "J           0.363636              0.320158               0.320158\n",
      "K           0.090909              0.275482               0.275482\n",
      "L           0.090909              0.275482               0.275482\n"
     ]
    }
   ],
   "source": [
    "centrality_matrix_directed(df)"
   ]
  },
  {
   "cell_type": "code",
   "execution_count": 38,
   "id": "1fd8415d",
   "metadata": {},
   "outputs": [
    {
     "data": {
      "text/html": [
       "<div>\n",
       "<style scoped>\n",
       "    .dataframe tbody tr th:only-of-type {\n",
       "        vertical-align: middle;\n",
       "    }\n",
       "\n",
       "    .dataframe tbody tr th {\n",
       "        vertical-align: top;\n",
       "    }\n",
       "\n",
       "    .dataframe thead th {\n",
       "        text-align: right;\n",
       "    }\n",
       "</style>\n",
       "<table border=\"1\" class=\"dataframe\">\n",
       "  <thead>\n",
       "    <tr style=\"text-align: right;\">\n",
       "      <th></th>\n",
       "      <th>Degree_Centrality</th>\n",
       "      <th>Closeness_Centrality</th>\n",
       "      <th>Betweeness_Centrality</th>\n",
       "      <th>Eigen_Vector_Centrality</th>\n",
       "    </tr>\n",
       "  </thead>\n",
       "  <tbody>\n",
       "    <tr>\n",
       "      <th>A</th>\n",
       "      <td>0.272727</td>\n",
       "      <td>0.354839</td>\n",
       "      <td>0.354839</td>\n",
       "      <td>0.279526</td>\n",
       "    </tr>\n",
       "    <tr>\n",
       "      <th>B</th>\n",
       "      <td>0.181818</td>\n",
       "      <td>0.407407</td>\n",
       "      <td>0.407407</td>\n",
       "      <td>0.239401</td>\n",
       "    </tr>\n",
       "    <tr>\n",
       "      <th>C</th>\n",
       "      <td>0.272727</td>\n",
       "      <td>0.379310</td>\n",
       "      <td>0.379310</td>\n",
       "      <td>0.276795</td>\n",
       "    </tr>\n",
       "    <tr>\n",
       "      <th>D</th>\n",
       "      <td>0.272727</td>\n",
       "      <td>0.440000</td>\n",
       "      <td>0.440000</td>\n",
       "      <td>0.330754</td>\n",
       "    </tr>\n",
       "    <tr>\n",
       "      <th>E</th>\n",
       "      <td>0.363636</td>\n",
       "      <td>0.550000</td>\n",
       "      <td>0.550000</td>\n",
       "      <td>0.445844</td>\n",
       "    </tr>\n",
       "    <tr>\n",
       "      <th>F</th>\n",
       "      <td>0.181818</td>\n",
       "      <td>0.423077</td>\n",
       "      <td>0.423077</td>\n",
       "      <td>0.228393</td>\n",
       "    </tr>\n",
       "    <tr>\n",
       "      <th>G</th>\n",
       "      <td>0.363636</td>\n",
       "      <td>0.523810</td>\n",
       "      <td>0.523810</td>\n",
       "      <td>0.415222</td>\n",
       "    </tr>\n",
       "    <tr>\n",
       "      <th>H</th>\n",
       "      <td>0.272727</td>\n",
       "      <td>0.523810</td>\n",
       "      <td>0.523810</td>\n",
       "      <td>0.365500</td>\n",
       "    </tr>\n",
       "    <tr>\n",
       "      <th>I</th>\n",
       "      <td>0.181818</td>\n",
       "      <td>0.440000</td>\n",
       "      <td>0.440000</td>\n",
       "      <td>0.218353</td>\n",
       "    </tr>\n",
       "    <tr>\n",
       "      <th>J</th>\n",
       "      <td>0.363636</td>\n",
       "      <td>0.440000</td>\n",
       "      <td>0.440000</td>\n",
       "      <td>0.246370</td>\n",
       "    </tr>\n",
       "    <tr>\n",
       "      <th>K</th>\n",
       "      <td>0.090909</td>\n",
       "      <td>0.314286</td>\n",
       "      <td>0.314286</td>\n",
       "      <td>0.081313</td>\n",
       "    </tr>\n",
       "    <tr>\n",
       "      <th>L</th>\n",
       "      <td>0.090909</td>\n",
       "      <td>0.314286</td>\n",
       "      <td>0.314286</td>\n",
       "      <td>0.081313</td>\n",
       "    </tr>\n",
       "  </tbody>\n",
       "</table>\n",
       "</div>"
      ],
      "text/plain": [
       "   Degree_Centrality  Closeness_Centrality  Betweeness_Centrality  \\\n",
       "A           0.272727              0.354839               0.354839   \n",
       "B           0.181818              0.407407               0.407407   \n",
       "C           0.272727              0.379310               0.379310   \n",
       "D           0.272727              0.440000               0.440000   \n",
       "E           0.363636              0.550000               0.550000   \n",
       "F           0.181818              0.423077               0.423077   \n",
       "G           0.363636              0.523810               0.523810   \n",
       "H           0.272727              0.523810               0.523810   \n",
       "I           0.181818              0.440000               0.440000   \n",
       "J           0.363636              0.440000               0.440000   \n",
       "K           0.090909              0.314286               0.314286   \n",
       "L           0.090909              0.314286               0.314286   \n",
       "\n",
       "   Eigen_Vector_Centrality  \n",
       "A                 0.279526  \n",
       "B                 0.239401  \n",
       "C                 0.276795  \n",
       "D                 0.330754  \n",
       "E                 0.445844  \n",
       "F                 0.228393  \n",
       "G                 0.415222  \n",
       "H                 0.365500  \n",
       "I                 0.218353  \n",
       "J                 0.246370  \n",
       "K                 0.081313  \n",
       "L                 0.081313  "
      ]
     },
     "execution_count": 38,
     "metadata": {},
     "output_type": "execute_result"
    }
   ],
   "source": [
    "edges=[]\n",
    "for i in range(len(df)):\n",
    "    edges.append((df.loc[i, 'Source'], df.loc[i, 'Destination'], df.loc[i, 'Weight']))\n",
    "G = nx.Graph()\n",
    "G.add_weighted_edges_from(edges)\n",
    "deg_centrality = nx.degree_centrality(G)\n",
    "closeness_centrality = nx.closeness_centrality(G)\n",
    "betweeness_centrality = nx.closeness_centrality(G)\n",
    "eigen_vector_centrality = nx.eigenvector_centrality(G)\n",
    "udf = pd.DataFrame.from_dict(deg_centrality,orient='index',columns=['Degree_Centrality'])\n",
    "udf = udf.assign(Closeness_Centrality= closeness_centrality.values())\n",
    "udf = udf.assign(Betweeness_Centrality= betweeness_centrality.values())\n",
    "udf = udf.assign(Eigen_Vector_Centrality= eigen_vector_centrality.values())\n",
    "udf"
   ]
  },
  {
   "cell_type": "code",
   "execution_count": 39,
   "id": "4f8875c6",
   "metadata": {},
   "outputs": [],
   "source": [
    "def find_node_min_centarlity(udf,cent_name):\n",
    "    min = 100\n",
    "    node_min = -1\n",
    "    for i in range(len(udf)):\n",
    "        if udf[cent_name][i] < min:\n",
    "            min =  udf[cent_name][i]\n",
    "            node_min = i\n",
    "        return node_min,min\n",
    "\n",
    "def find_node_max_centarlity(udf,cent_name):\n",
    "    max = 0\n",
    "    node_max = -1\n",
    "    for i in range(len(udf)):\n",
    "        if udf[cent_name][i] > max:\n",
    "            max =  udf[cent_name][i]\n",
    "            node_max = i\n",
    "        return node_max,max"
   ]
  },
  {
   "cell_type": "code",
   "execution_count": 40,
   "id": "2afea8c6",
   "metadata": {},
   "outputs": [
    {
     "name": "stdout",
     "output_type": "stream",
     "text": [
      "0 0.2727272727272727\n",
      "0 0.2727272727272727\n"
     ]
    }
   ],
   "source": [
    "node_min,min = find_node_min_centarlity(udf,'Degree_Centrality')\n",
    "node_max,max = find_node_max_centarlity(udf,'Degree_Centrality')\n",
    "print(node_min,min)\n",
    "print(node_max,max)\n",
    "degree_cent_min_max = {'Min Degree Node':str(node_min),'Value C1':min,'Max Degree Node':str(node_max),'Value C2':max}"
   ]
  },
  {
   "cell_type": "code",
   "execution_count": 41,
   "id": "f0a68c7d",
   "metadata": {},
   "outputs": [
    {
     "name": "stdout",
     "output_type": "stream",
     "text": [
      "0 0.3548387096774194\n",
      "0 0.3548387096774194\n"
     ]
    }
   ],
   "source": [
    "node_min,min = find_node_min_centarlity(udf,'Closeness_Centrality')\n",
    "node_max,max = find_node_max_centarlity(udf,'Closeness_Centrality')\n",
    "print(node_min,min)\n",
    "print(node_max,max)\n",
    "closeness_cent_min_max = {'Min Degree Node':str(node_min),'Value C1':min,'Max Degree Node':str(node_max),'Value C2':max}"
   ]
  },
  {
   "cell_type": "code",
   "execution_count": 42,
   "id": "3816f252",
   "metadata": {},
   "outputs": [
    {
     "name": "stdout",
     "output_type": "stream",
     "text": [
      "0 0.3548387096774194\n",
      "0 0.3548387096774194\n"
     ]
    }
   ],
   "source": [
    "node_min,min = find_node_min_centarlity(udf,'Betweeness_Centrality')\n",
    "node_max,max = find_node_max_centarlity(udf,'Betweeness_Centrality')\n",
    "print(node_min,min)\n",
    "print(node_max,max)\n",
    "betweeness_cent_min_max = {'Min Degree Node':str(node_min),'Value C1':min,'Max Degree Node':str(node_max),'Value C2':max}"
   ]
  },
  {
   "cell_type": "code",
   "execution_count": 43,
   "id": "fba02a98",
   "metadata": {},
   "outputs": [
    {
     "name": "stdout",
     "output_type": "stream",
     "text": [
      "0 0.279526225514069\n",
      "0 0.279526225514069\n"
     ]
    }
   ],
   "source": [
    "node_min,min = find_node_min_centarlity(udf,'Eigen_Vector_Centrality')\n",
    "node_max,max = find_node_max_centarlity(udf,'Eigen_Vector_Centrality')\n",
    "print(node_min,min)\n",
    "print(node_max,max)\n",
    "eigen_vector_cent_min_max = {'Min Degree Node':str(node_min),'Value C1':min,'Max Degree Node':str(node_max),'Value C2':max}"
   ]
  },
  {
   "cell_type": "code",
   "execution_count": 44,
   "id": "c311c386",
   "metadata": {},
   "outputs": [
    {
     "data": {
      "text/html": [
       "<div>\n",
       "<style scoped>\n",
       "    .dataframe tbody tr th:only-of-type {\n",
       "        vertical-align: middle;\n",
       "    }\n",
       "\n",
       "    .dataframe tbody tr th {\n",
       "        vertical-align: top;\n",
       "    }\n",
       "\n",
       "    .dataframe thead th {\n",
       "        text-align: right;\n",
       "    }\n",
       "</style>\n",
       "<table border=\"1\" class=\"dataframe\">\n",
       "  <thead>\n",
       "    <tr style=\"text-align: right;\">\n",
       "      <th></th>\n",
       "      <th>Min Degree Node</th>\n",
       "      <th>Value C1</th>\n",
       "      <th>Max Degree Node</th>\n",
       "      <th>Value C2</th>\n",
       "    </tr>\n",
       "  </thead>\n",
       "  <tbody>\n",
       "  </tbody>\n",
       "</table>\n",
       "</div>"
      ],
      "text/plain": [
       "Empty DataFrame\n",
       "Columns: [Min Degree Node, Value C1, Max Degree Node, Value C2]\n",
       "Index: []"
      ]
     },
     "execution_count": 44,
     "metadata": {},
     "output_type": "execute_result"
    }
   ],
   "source": [
    "udf_min_max = pd.DataFrame(columns=['Min Degree Node','Value C1','Max Degree Node','Value C2'])\n",
    "\n",
    "udf_min_max"
   ]
  },
  {
   "cell_type": "code",
   "execution_count": 45,
   "id": "1446f6ef",
   "metadata": {},
   "outputs": [
    {
     "name": "stderr",
     "output_type": "stream",
     "text": [
      "C:\\Users\\rajat\\AppData\\Local\\Temp\\ipykernel_23744\\4159790018.py:1: FutureWarning: The frame.append method is deprecated and will be removed from pandas in a future version. Use pandas.concat instead.\n",
      "  udf_min_max = udf_min_max.append(pd.Series(degree_cent_min_max,index = udf_min_max.columns,name = 'Degree Centrality'))\n",
      "C:\\Users\\rajat\\AppData\\Local\\Temp\\ipykernel_23744\\4159790018.py:2: FutureWarning: The frame.append method is deprecated and will be removed from pandas in a future version. Use pandas.concat instead.\n",
      "  udf_min_max = udf_min_max.append(pd.Series(closeness_cent_min_max,index = udf_min_max.columns,name = 'Closeness Centrality'))\n",
      "C:\\Users\\rajat\\AppData\\Local\\Temp\\ipykernel_23744\\4159790018.py:3: FutureWarning: The frame.append method is deprecated and will be removed from pandas in a future version. Use pandas.concat instead.\n",
      "  udf_min_max = udf_min_max.append(pd.Series(betweeness_cent_min_max,index = udf_min_max.columns,name = 'Betweeness Centrality'))\n",
      "C:\\Users\\rajat\\AppData\\Local\\Temp\\ipykernel_23744\\4159790018.py:4: FutureWarning: The frame.append method is deprecated and will be removed from pandas in a future version. Use pandas.concat instead.\n",
      "  udf_min_max = udf_min_max.append(pd.Series(eigen_vector_cent_min_max,index = udf_min_max.columns,name = 'Eigen Vector Centrality'))\n"
     ]
    },
    {
     "data": {
      "text/html": [
       "<div>\n",
       "<style scoped>\n",
       "    .dataframe tbody tr th:only-of-type {\n",
       "        vertical-align: middle;\n",
       "    }\n",
       "\n",
       "    .dataframe tbody tr th {\n",
       "        vertical-align: top;\n",
       "    }\n",
       "\n",
       "    .dataframe thead th {\n",
       "        text-align: right;\n",
       "    }\n",
       "</style>\n",
       "<table border=\"1\" class=\"dataframe\">\n",
       "  <thead>\n",
       "    <tr style=\"text-align: right;\">\n",
       "      <th></th>\n",
       "      <th>Min Degree Node</th>\n",
       "      <th>Value C1</th>\n",
       "      <th>Max Degree Node</th>\n",
       "      <th>Value C2</th>\n",
       "    </tr>\n",
       "  </thead>\n",
       "  <tbody>\n",
       "    <tr>\n",
       "      <th>Degree Centrality</th>\n",
       "      <td>0</td>\n",
       "      <td>0.272727</td>\n",
       "      <td>0</td>\n",
       "      <td>0.272727</td>\n",
       "    </tr>\n",
       "    <tr>\n",
       "      <th>Closeness Centrality</th>\n",
       "      <td>0</td>\n",
       "      <td>0.354839</td>\n",
       "      <td>0</td>\n",
       "      <td>0.354839</td>\n",
       "    </tr>\n",
       "    <tr>\n",
       "      <th>Betweeness Centrality</th>\n",
       "      <td>0</td>\n",
       "      <td>0.354839</td>\n",
       "      <td>0</td>\n",
       "      <td>0.354839</td>\n",
       "    </tr>\n",
       "    <tr>\n",
       "      <th>Eigen Vector Centrality</th>\n",
       "      <td>0</td>\n",
       "      <td>0.279526</td>\n",
       "      <td>0</td>\n",
       "      <td>0.279526</td>\n",
       "    </tr>\n",
       "  </tbody>\n",
       "</table>\n",
       "</div>"
      ],
      "text/plain": [
       "                        Min Degree Node  Value C1 Max Degree Node  Value C2\n",
       "Degree Centrality                     0  0.272727               0  0.272727\n",
       "Closeness Centrality                  0  0.354839               0  0.354839\n",
       "Betweeness Centrality                 0  0.354839               0  0.354839\n",
       "Eigen Vector Centrality               0  0.279526               0  0.279526"
      ]
     },
     "execution_count": 45,
     "metadata": {},
     "output_type": "execute_result"
    }
   ],
   "source": [
    "udf_min_max = udf_min_max.append(pd.Series(degree_cent_min_max,index = udf_min_max.columns,name = 'Degree Centrality'))\n",
    "udf_min_max = udf_min_max.append(pd.Series(closeness_cent_min_max,index = udf_min_max.columns,name = 'Closeness Centrality'))\n",
    "udf_min_max = udf_min_max.append(pd.Series(betweeness_cent_min_max,index = udf_min_max.columns,name = 'Betweeness Centrality'))\n",
    "udf_min_max = udf_min_max.append(pd.Series(eigen_vector_cent_min_max,index = udf_min_max.columns,name = 'Eigen Vector Centrality'))\n",
    "udf_min_max"
   ]
  },
  {
   "cell_type": "code",
   "execution_count": 46,
   "id": "a9ac82ae",
   "metadata": {},
   "outputs": [
    {
     "data": {
      "text/html": [
       "<div>\n",
       "<style scoped>\n",
       "    .dataframe tbody tr th:only-of-type {\n",
       "        vertical-align: middle;\n",
       "    }\n",
       "\n",
       "    .dataframe tbody tr th {\n",
       "        vertical-align: top;\n",
       "    }\n",
       "\n",
       "    .dataframe thead th {\n",
       "        text-align: right;\n",
       "    }\n",
       "</style>\n",
       "<table border=\"1\" class=\"dataframe\">\n",
       "  <thead>\n",
       "    <tr style=\"text-align: right;\">\n",
       "      <th></th>\n",
       "      <th>Degree_Centrality</th>\n",
       "      <th>Closeness_Centrality</th>\n",
       "      <th>Betweeness_Centrality</th>\n",
       "      <th>Eigen_Vector_Centrality</th>\n",
       "    </tr>\n",
       "  </thead>\n",
       "  <tbody>\n",
       "    <tr>\n",
       "      <th>A</th>\n",
       "      <td>0.272727</td>\n",
       "      <td>0.354839</td>\n",
       "      <td>0.000000</td>\n",
       "      <td>0.279526</td>\n",
       "    </tr>\n",
       "    <tr>\n",
       "      <th>B</th>\n",
       "      <td>0.181818</td>\n",
       "      <td>0.407407</td>\n",
       "      <td>0.090909</td>\n",
       "      <td>0.239401</td>\n",
       "    </tr>\n",
       "    <tr>\n",
       "      <th>C</th>\n",
       "      <td>0.272727</td>\n",
       "      <td>0.379310</td>\n",
       "      <td>0.090909</td>\n",
       "      <td>0.276795</td>\n",
       "    </tr>\n",
       "    <tr>\n",
       "      <th>D</th>\n",
       "      <td>0.272727</td>\n",
       "      <td>0.440000</td>\n",
       "      <td>0.181818</td>\n",
       "      <td>0.330754</td>\n",
       "    </tr>\n",
       "    <tr>\n",
       "      <th>E</th>\n",
       "      <td>0.363636</td>\n",
       "      <td>0.550000</td>\n",
       "      <td>0.242424</td>\n",
       "      <td>0.445844</td>\n",
       "    </tr>\n",
       "    <tr>\n",
       "      <th>F</th>\n",
       "      <td>0.181818</td>\n",
       "      <td>0.423077</td>\n",
       "      <td>0.121212</td>\n",
       "      <td>0.228393</td>\n",
       "    </tr>\n",
       "    <tr>\n",
       "      <th>G</th>\n",
       "      <td>0.363636</td>\n",
       "      <td>0.523810</td>\n",
       "      <td>0.297521</td>\n",
       "      <td>0.415222</td>\n",
       "    </tr>\n",
       "    <tr>\n",
       "      <th>H</th>\n",
       "      <td>0.272727</td>\n",
       "      <td>0.523810</td>\n",
       "      <td>0.318182</td>\n",
       "      <td>0.365500</td>\n",
       "    </tr>\n",
       "    <tr>\n",
       "      <th>I</th>\n",
       "      <td>0.181818</td>\n",
       "      <td>0.440000</td>\n",
       "      <td>0.247475</td>\n",
       "      <td>0.218353</td>\n",
       "    </tr>\n",
       "    <tr>\n",
       "      <th>J</th>\n",
       "      <td>0.363636</td>\n",
       "      <td>0.440000</td>\n",
       "      <td>0.320158</td>\n",
       "      <td>0.246370</td>\n",
       "    </tr>\n",
       "    <tr>\n",
       "      <th>K</th>\n",
       "      <td>0.090909</td>\n",
       "      <td>0.314286</td>\n",
       "      <td>0.275482</td>\n",
       "      <td>0.081313</td>\n",
       "    </tr>\n",
       "    <tr>\n",
       "      <th>L</th>\n",
       "      <td>0.090909</td>\n",
       "      <td>0.314286</td>\n",
       "      <td>0.275482</td>\n",
       "      <td>0.081313</td>\n",
       "    </tr>\n",
       "  </tbody>\n",
       "</table>\n",
       "</div>"
      ],
      "text/plain": [
       "   Degree_Centrality  Closeness_Centrality  Betweeness_Centrality  \\\n",
       "A           0.272727              0.354839               0.000000   \n",
       "B           0.181818              0.407407               0.090909   \n",
       "C           0.272727              0.379310               0.090909   \n",
       "D           0.272727              0.440000               0.181818   \n",
       "E           0.363636              0.550000               0.242424   \n",
       "F           0.181818              0.423077               0.121212   \n",
       "G           0.363636              0.523810               0.297521   \n",
       "H           0.272727              0.523810               0.318182   \n",
       "I           0.181818              0.440000               0.247475   \n",
       "J           0.363636              0.440000               0.320158   \n",
       "K           0.090909              0.314286               0.275482   \n",
       "L           0.090909              0.314286               0.275482   \n",
       "\n",
       "   Eigen_Vector_Centrality  \n",
       "A                 0.279526  \n",
       "B                 0.239401  \n",
       "C                 0.276795  \n",
       "D                 0.330754  \n",
       "E                 0.445844  \n",
       "F                 0.228393  \n",
       "G                 0.415222  \n",
       "H                 0.365500  \n",
       "I                 0.218353  \n",
       "J                 0.246370  \n",
       "K                 0.081313  \n",
       "L                 0.081313  "
      ]
     },
     "execution_count": 46,
     "metadata": {},
     "output_type": "execute_result"
    }
   ],
   "source": [
    "edges=[]\n",
    "for i in range(len(df)):\n",
    "    edges.append((df.loc[i, 'Source'], df.loc[i, 'Destination'], df.loc[i, 'Weight']))\n",
    "H = nx.DiGraph()\n",
    "H.add_weighted_edges_from(edges)\n",
    "deg_centrality = nx.degree_centrality(H)\n",
    "closeness_centrality = nx.closeness_centrality(H)\n",
    "betweeness_centrality = nx.closeness_centrality(H)\n",
    "#eigen_vector_centrality = nx.eigenvector_centrality(H)\n",
    "ddf = pd.DataFrame.from_dict(deg_centrality,orient='index',columns=['Degree_Centrality'])\n",
    "ddf = udf.assign(Closeness_Centrality= closeness_centrality.values())\n",
    "ddf = udf.assign(Betweeness_Centrality= betweeness_centrality.values())\n",
    "#udf = udf.assign(Eigen_Vector_Centrality= eigen_vector_centrality.values())\n",
    "ddf"
   ]
  },
  {
   "cell_type": "code",
   "execution_count": 47,
   "id": "4717526c",
   "metadata": {},
   "outputs": [
    {
     "data": {
      "text/html": [
       "<div>\n",
       "<style scoped>\n",
       "    .dataframe tbody tr th:only-of-type {\n",
       "        vertical-align: middle;\n",
       "    }\n",
       "\n",
       "    .dataframe tbody tr th {\n",
       "        vertical-align: top;\n",
       "    }\n",
       "\n",
       "    .dataframe thead th {\n",
       "        text-align: right;\n",
       "    }\n",
       "</style>\n",
       "<table border=\"1\" class=\"dataframe\">\n",
       "  <thead>\n",
       "    <tr style=\"text-align: right;\">\n",
       "      <th></th>\n",
       "      <th>Degree_Centrality</th>\n",
       "      <th>Closeness_Centrality</th>\n",
       "      <th>Betweeness_Centrality</th>\n",
       "    </tr>\n",
       "  </thead>\n",
       "  <tbody>\n",
       "    <tr>\n",
       "      <th>A</th>\n",
       "      <td>0.272727</td>\n",
       "      <td>0.000000</td>\n",
       "      <td>0.000000</td>\n",
       "    </tr>\n",
       "    <tr>\n",
       "      <th>B</th>\n",
       "      <td>0.181818</td>\n",
       "      <td>0.090909</td>\n",
       "      <td>0.090909</td>\n",
       "    </tr>\n",
       "    <tr>\n",
       "      <th>C</th>\n",
       "      <td>0.272727</td>\n",
       "      <td>0.090909</td>\n",
       "      <td>0.090909</td>\n",
       "    </tr>\n",
       "    <tr>\n",
       "      <th>D</th>\n",
       "      <td>0.272727</td>\n",
       "      <td>0.181818</td>\n",
       "      <td>0.181818</td>\n",
       "    </tr>\n",
       "    <tr>\n",
       "      <th>E</th>\n",
       "      <td>0.363636</td>\n",
       "      <td>0.242424</td>\n",
       "      <td>0.242424</td>\n",
       "    </tr>\n",
       "    <tr>\n",
       "      <th>F</th>\n",
       "      <td>0.181818</td>\n",
       "      <td>0.121212</td>\n",
       "      <td>0.121212</td>\n",
       "    </tr>\n",
       "    <tr>\n",
       "      <th>G</th>\n",
       "      <td>0.363636</td>\n",
       "      <td>0.297521</td>\n",
       "      <td>0.297521</td>\n",
       "    </tr>\n",
       "    <tr>\n",
       "      <th>H</th>\n",
       "      <td>0.272727</td>\n",
       "      <td>0.318182</td>\n",
       "      <td>0.318182</td>\n",
       "    </tr>\n",
       "    <tr>\n",
       "      <th>I</th>\n",
       "      <td>0.181818</td>\n",
       "      <td>0.247475</td>\n",
       "      <td>0.247475</td>\n",
       "    </tr>\n",
       "    <tr>\n",
       "      <th>J</th>\n",
       "      <td>0.363636</td>\n",
       "      <td>0.320158</td>\n",
       "      <td>0.320158</td>\n",
       "    </tr>\n",
       "    <tr>\n",
       "      <th>K</th>\n",
       "      <td>0.090909</td>\n",
       "      <td>0.275482</td>\n",
       "      <td>0.275482</td>\n",
       "    </tr>\n",
       "    <tr>\n",
       "      <th>L</th>\n",
       "      <td>0.090909</td>\n",
       "      <td>0.275482</td>\n",
       "      <td>0.275482</td>\n",
       "    </tr>\n",
       "  </tbody>\n",
       "</table>\n",
       "</div>"
      ],
      "text/plain": [
       "   Degree_Centrality  Closeness_Centrality  Betweeness_Centrality\n",
       "A           0.272727              0.000000               0.000000\n",
       "B           0.181818              0.090909               0.090909\n",
       "C           0.272727              0.090909               0.090909\n",
       "D           0.272727              0.181818               0.181818\n",
       "E           0.363636              0.242424               0.242424\n",
       "F           0.181818              0.121212               0.121212\n",
       "G           0.363636              0.297521               0.297521\n",
       "H           0.272727              0.318182               0.318182\n",
       "I           0.181818              0.247475               0.247475\n",
       "J           0.363636              0.320158               0.320158\n",
       "K           0.090909              0.275482               0.275482\n",
       "L           0.090909              0.275482               0.275482"
      ]
     },
     "execution_count": 47,
     "metadata": {},
     "output_type": "execute_result"
    }
   ],
   "source": [
    "ddf = pd.DataFrame.from_dict(deg_centrality,orient='index',columns=['Degree_Centrality'])\n",
    "ddf = ddf.assign(Closeness_Centrality= closeness_centrality.values())\n",
    "ddf = ddf.assign(Betweeness_Centrality= betweeness_centrality.values())\n",
    "#ddf = ddf.assign(Eigen_Vector_Centrality= dg_eigen_vector_centrality.values())\n",
    "ddf"
   ]
  },
  {
   "cell_type": "code",
   "execution_count": 48,
   "id": "6650f525",
   "metadata": {},
   "outputs": [
    {
     "name": "stdout",
     "output_type": "stream",
     "text": [
      "0 0.2727272727272727\n",
      "0 0.2727272727272727\n"
     ]
    }
   ],
   "source": [
    "node_min,min = find_node_min_centarlity(udf,'Degree_Centrality')\n",
    "node_max,max = find_node_max_centarlity(udf,'Degree_Centrality')\n",
    "print(node_min,min)\n",
    "print(node_max,max)\n",
    "degree_cent_min_max = {'Min Degree Node':str(node_min),'Value C1':min,'Max Degree Node':str(node_max),'Value C2':max}"
   ]
  },
  {
   "cell_type": "code",
   "execution_count": 49,
   "id": "67893af2",
   "metadata": {},
   "outputs": [
    {
     "name": "stdout",
     "output_type": "stream",
     "text": [
      "0 0.0\n",
      "-1 0\n"
     ]
    }
   ],
   "source": [
    "node_min,min = find_node_min_centarlity(ddf,'Closeness_Centrality')\n",
    "node_max,max = find_node_max_centarlity(ddf,'Closeness_Centrality')\n",
    "print(node_min,min)\n",
    "print(node_max,max)\n",
    "closeness_cent_min_max = {'Min Degree Node':str(node_min),'Value C1':min,'Max Degree Node':str(node_max),'Value C2':max}"
   ]
  },
  {
   "cell_type": "code",
   "execution_count": 50,
   "id": "f301cdbf",
   "metadata": {},
   "outputs": [
    {
     "name": "stdout",
     "output_type": "stream",
     "text": [
      "0 0.0\n",
      "-1 0\n"
     ]
    }
   ],
   "source": [
    "node_min,min = find_node_min_centarlity(ddf,'Betweeness_Centrality')\n",
    "node_max,max = find_node_max_centarlity(ddf,'Betweeness_Centrality')\n",
    "print(node_min,min)\n",
    "print(node_max,max)\n",
    "betweeness_cent_min_max = {'Min Degree Node':str(node_min),'Value C1':min,'Max Degree Node':str(node_max),'Value C2':max}"
   ]
  },
  {
   "cell_type": "code",
   "execution_count": 51,
   "id": "442d69be",
   "metadata": {},
   "outputs": [
    {
     "data": {
      "text/html": [
       "<div>\n",
       "<style scoped>\n",
       "    .dataframe tbody tr th:only-of-type {\n",
       "        vertical-align: middle;\n",
       "    }\n",
       "\n",
       "    .dataframe tbody tr th {\n",
       "        vertical-align: top;\n",
       "    }\n",
       "\n",
       "    .dataframe thead th {\n",
       "        text-align: right;\n",
       "    }\n",
       "</style>\n",
       "<table border=\"1\" class=\"dataframe\">\n",
       "  <thead>\n",
       "    <tr style=\"text-align: right;\">\n",
       "      <th></th>\n",
       "      <th>Min Degree Node</th>\n",
       "      <th>Value C1</th>\n",
       "      <th>Max Degree Node</th>\n",
       "      <th>Value C2</th>\n",
       "    </tr>\n",
       "  </thead>\n",
       "  <tbody>\n",
       "  </tbody>\n",
       "</table>\n",
       "</div>"
      ],
      "text/plain": [
       "Empty DataFrame\n",
       "Columns: [Min Degree Node, Value C1, Max Degree Node, Value C2]\n",
       "Index: []"
      ]
     },
     "execution_count": 51,
     "metadata": {},
     "output_type": "execute_result"
    }
   ],
   "source": [
    "ddf_min_max = pd.DataFrame(columns=['Min Degree Node','Value C1','Max Degree Node','Value C2'])\n",
    "\n",
    "ddf_min_max"
   ]
  },
  {
   "cell_type": "code",
   "execution_count": 52,
   "id": "6a47b485",
   "metadata": {},
   "outputs": [
    {
     "name": "stderr",
     "output_type": "stream",
     "text": [
      "C:\\Users\\rajat\\AppData\\Local\\Temp\\ipykernel_23744\\2392606401.py:1: FutureWarning: The frame.append method is deprecated and will be removed from pandas in a future version. Use pandas.concat instead.\n",
      "  ddf_min_max = ddf_min_max.append(pd.Series(degree_cent_min_max,index = ddf_min_max.columns,name = 'Degree Centrality'))\n",
      "C:\\Users\\rajat\\AppData\\Local\\Temp\\ipykernel_23744\\2392606401.py:2: FutureWarning: The frame.append method is deprecated and will be removed from pandas in a future version. Use pandas.concat instead.\n",
      "  ddf_min_max = ddf_min_max.append(pd.Series(closeness_cent_min_max,index = ddf_min_max.columns,name = 'Closeness Centrality'))\n",
      "C:\\Users\\rajat\\AppData\\Local\\Temp\\ipykernel_23744\\2392606401.py:3: FutureWarning: The frame.append method is deprecated and will be removed from pandas in a future version. Use pandas.concat instead.\n",
      "  ddf_min_max = ddf_min_max.append(pd.Series(betweeness_cent_min_max,index = ddf_min_max.columns,name = 'Betweeness Centrality'))\n"
     ]
    },
    {
     "data": {
      "text/html": [
       "<div>\n",
       "<style scoped>\n",
       "    .dataframe tbody tr th:only-of-type {\n",
       "        vertical-align: middle;\n",
       "    }\n",
       "\n",
       "    .dataframe tbody tr th {\n",
       "        vertical-align: top;\n",
       "    }\n",
       "\n",
       "    .dataframe thead th {\n",
       "        text-align: right;\n",
       "    }\n",
       "</style>\n",
       "<table border=\"1\" class=\"dataframe\">\n",
       "  <thead>\n",
       "    <tr style=\"text-align: right;\">\n",
       "      <th></th>\n",
       "      <th>Min Degree Node</th>\n",
       "      <th>Value C1</th>\n",
       "      <th>Max Degree Node</th>\n",
       "      <th>Value C2</th>\n",
       "    </tr>\n",
       "  </thead>\n",
       "  <tbody>\n",
       "    <tr>\n",
       "      <th>Degree Centrality</th>\n",
       "      <td>0</td>\n",
       "      <td>0.272727</td>\n",
       "      <td>0</td>\n",
       "      <td>0.272727</td>\n",
       "    </tr>\n",
       "    <tr>\n",
       "      <th>Closeness Centrality</th>\n",
       "      <td>0</td>\n",
       "      <td>0.000000</td>\n",
       "      <td>-1</td>\n",
       "      <td>0.000000</td>\n",
       "    </tr>\n",
       "    <tr>\n",
       "      <th>Betweeness Centrality</th>\n",
       "      <td>0</td>\n",
       "      <td>0.000000</td>\n",
       "      <td>-1</td>\n",
       "      <td>0.000000</td>\n",
       "    </tr>\n",
       "  </tbody>\n",
       "</table>\n",
       "</div>"
      ],
      "text/plain": [
       "                      Min Degree Node  Value C1 Max Degree Node  Value C2\n",
       "Degree Centrality                   0  0.272727               0  0.272727\n",
       "Closeness Centrality                0  0.000000              -1  0.000000\n",
       "Betweeness Centrality               0  0.000000              -1  0.000000"
      ]
     },
     "execution_count": 52,
     "metadata": {},
     "output_type": "execute_result"
    }
   ],
   "source": [
    "ddf_min_max = ddf_min_max.append(pd.Series(degree_cent_min_max,index = ddf_min_max.columns,name = 'Degree Centrality'))\n",
    "ddf_min_max = ddf_min_max.append(pd.Series(closeness_cent_min_max,index = ddf_min_max.columns,name = 'Closeness Centrality'))\n",
    "ddf_min_max = ddf_min_max.append(pd.Series(betweeness_cent_min_max,index = ddf_min_max.columns,name = 'Betweeness Centrality'))\n",
    "#ddf_min_max = ddf_min_max.append(pd.Series(eigen_vector_cent_min_max,index = ddf_min_max.columns,name = 'Eigen Vector Centrality'))\n",
    "ddf_min_max"
   ]
  },
  {
   "cell_type": "code",
   "execution_count": null,
   "id": "2e7cb5f0",
   "metadata": {},
   "outputs": [],
   "source": []
  },
  {
   "cell_type": "code",
   "execution_count": null,
   "id": "7ca30828",
   "metadata": {},
   "outputs": [],
   "source": []
  }
 ],
 "metadata": {
  "kernelspec": {
   "display_name": "Python 3 (ipykernel)",
   "language": "python",
   "name": "python3"
  },
  "language_info": {
   "codemirror_mode": {
    "name": "ipython",
    "version": 3
   },
   "file_extension": ".py",
   "mimetype": "text/x-python",
   "name": "python",
   "nbconvert_exporter": "python",
   "pygments_lexer": "ipython3",
   "version": "3.9.13"
  }
 },
 "nbformat": 4,
 "nbformat_minor": 5
}
